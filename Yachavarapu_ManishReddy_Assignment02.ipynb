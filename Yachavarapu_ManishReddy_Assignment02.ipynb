{
  "cells": [
    {
      "cell_type": "markdown",
      "metadata": {
        "id": "Ryk8D1Q4Wsrp"
      },
      "source": [
        "# **INFO5731 Assignment 2**\n",
        "\n",
        "In this assignment, you will work on gathering text data from an open data source via web scraping or API. Following this, you will need to clean the text data and perform syntactic analysis on the data. Follow the instructions carefully and design well-structured Python programs to address each question.\n",
        "\n",
        "**Expectations**:\n",
        "*   Use the provided .*ipynb* document to write your code & respond to the questions. Avoid generating a new file.\n",
        "*   Write complete answers and run all the cells before submission.\n",
        "*   Make sure the submission is \"clean\"; *i.e.*, no unnecessary code cells.\n",
        "*   Once finished, allow shared rights from top right corner (*see Canvas for details*).\n",
        "\n",
        "* **Make sure to submit the cleaned data CSV in the comment section - 10 points**\n",
        "\n",
        "**Total points**: 100\n",
        "\n",
        "**Deadline**: Wednesday, at 11:59 PM.\n",
        "\n",
        "**Late Submission will have a penalty of 10% reduction for each day after the deadline.**\n"
      ]
    },
    {
      "cell_type": "markdown",
      "metadata": {
        "id": "JkzR8cFAyGik"
      },
      "source": [
        "# Question 1 (40 points)\n",
        "\n",
        "Write a python program to collect text data from **either of the following sources** and save the data into a **csv file:**\n",
        "\n",
        "(1) Collect all the customer reviews of a product (you can choose any porduct) on amazon. [atleast 1000 reviews]\n",
        "\n",
        "(2) Collect the top 1000 User Reviews of a movie recently in 2023 or 2024 (you can choose any movie) from IMDB. [If one movie doesn't have sufficient reviews, collect reviews of atleast 2 or 3 movies]\n",
        "\n",
        "(3) Collect all the reviews of the top 1000 most popular software from G2 or Capterra.\n",
        "\n",
        "(4) Collect the **abstracts** of the top 10000 research papers by using the query \"machine learning\", \"data science\", \"artifical intelligence\", or \"information extraction\" from Semantic Scholar.\n",
        "\n",
        "(5) Collect all the information of the 904 narrators in the Densho Digital Repository.\n"
      ]
    },
    {
      "cell_type": "code",
      "execution_count": 3,
      "metadata": {
        "id": "jDyTKYs-yGit",
        "colab": {
          "base_uri": "https://localhost:8080/"
        },
        "outputId": "6004762b-9df1-40db-dfe4-828b0ceff3cd"
      },
      "outputs": [
        {
          "output_type": "stream",
          "name": "stdout",
          "text": [
            "Amazon product reviews have been scraped and saved to 'amazon_reviews.csv'.\n"
          ]
        }
      ],
      "source": [
        "# Your code here\n",
        "\n",
        "import requests\n",
        "from bs4 import BeautifulSoup\n",
        "import csv\n",
        "\n",
        "def s(p, f):\n",
        "    r = requests.get(p)\n",
        "    s = BeautifulSoup(r.content, \"html.parser\")\n",
        "    c_reviews = s.find_all(\"div\", class_=\"a-section review aok-relative\")\n",
        "    with open(f, \"w\", newline=\"\", encoding=\"utf-8\") as c_file:\n",
        "        w = csv.writer(c_file)\n",
        "        w.writerow([\"Review\"])\n",
        "        for i in c_reviews:\n",
        "            t = i.find(\"span\", class_=\"a-size-base review-text review-text-content\").text.strip()\n",
        "            w.writerow([t])\n",
        "    print(f\"Amazon product reviews have been scraped and saved to '{f}'.\")\n",
        "\n",
        "def m():\n",
        "    p = \"https://www.amazon.com/product-url\"\n",
        "    f = \"amazon_reviews.csv\"\n",
        "    s(p, f)\n",
        "\n",
        "if __name__ == \"__main__\":\n",
        "    m()\n"
      ]
    },
    {
      "cell_type": "markdown",
      "metadata": {
        "id": "90_NR8c5XGWc"
      },
      "source": [
        "# Question 2 (30 points)\n",
        "\n",
        "Write a python program to **clean the text data** you collected in the previous question and save the clean data in a new column in the csv file. The data cleaning steps include: [Code and output is required for each part]\n",
        "\n",
        "(1) Remove noise, such as special characters and punctuations.\n",
        "\n",
        "(2) Remove numbers.\n",
        "\n",
        "(3) Remove stopwords by using the stopwords list.\n",
        "\n",
        "(4) Lowercase all texts\n",
        "\n",
        "(5) Stemming.\n",
        "\n",
        "(6) Lemmatization."
      ]
    },
    {
      "cell_type": "code",
      "execution_count": 4,
      "metadata": {
        "id": "5QX6bJjGWXY9",
        "colab": {
          "base_uri": "https://localhost:8080/"
        },
        "outputId": "913b2948-9909-4c88-86d6-5bcff2dc6ca1"
      },
      "outputs": [
        {
          "output_type": "stream",
          "name": "stdout",
          "text": [
            "Data has been cleaned and saved to amazon_reviews_cleaned.csv\n"
          ]
        },
        {
          "output_type": "stream",
          "name": "stderr",
          "text": [
            "[nltk_data] Downloading package punkt to /root/nltk_data...\n",
            "[nltk_data]   Package punkt is already up-to-date!\n",
            "[nltk_data] Downloading package stopwords to /root/nltk_data...\n",
            "[nltk_data]   Package stopwords is already up-to-date!\n",
            "[nltk_data] Downloading package wordnet to /root/nltk_data...\n",
            "[nltk_data]   Package wordnet is already up-to-date!\n"
          ]
        }
      ],
      "source": [
        "\n",
        "\n",
        "import csv\n",
        "import re\n",
        "import nltk\n",
        "from nltk.corpus import stopwords\n",
        "from nltk.stem import PorterStemmer\n",
        "from nltk.stem import WordNetLemmatizer\n",
        "\n",
        "nltk.download('punkt')\n",
        "nltk.download('stopwords')\n",
        "nltk.download('wordnet')\n",
        "\n",
        "s = set(stopwords.words('english'))\n",
        "t = PorterStemmer()\n",
        "l = WordNetLemmatizer()\n",
        "\n",
        "def c(x):\n",
        "    x = re.sub(r'[^a-zA-Z\\s]', '', x)\n",
        "    x = re.sub(r'\\d+', '', x)\n",
        "    w = nltk.word_tokenize(x)\n",
        "    w = [word.lower() for word in w if word.lower() not in s]\n",
        "    sw = [t.stem(word) for word in w]\n",
        "    lw = [l.lemmatize(word) for word in sw]\n",
        "    return ' '.join(lw)\n",
        "\n",
        "with open('amazon_reviews.csv', 'r', encoding='utf-8') as f1, open('amazon_reviews_cleaned.csv', 'w', newline='', encoding='utf-8') as f2:\n",
        "    r = csv.reader(f1)\n",
        "    w = csv.writer(f2)\n",
        "\n",
        "    next(r)\n",
        "    for row in r:\n",
        "        row.append(c(row[1]))\n",
        "        w.writerow(row)\n",
        "\n",
        "print(\"Data has been cleaned and saved to amazon_reviews_cleaned.csv\")\n"
      ]
    },
    {
      "cell_type": "markdown",
      "metadata": {
        "id": "1F_PZdH9Sh49"
      },
      "source": [
        "# Question 3 (30 points)\n",
        "\n",
        "Write a python program to **conduct syntax and structure analysis of the clean text** you just saved above. The syntax and structure analysis includes:\n",
        "\n",
        "(1) **Parts of Speech (POS) Tagging:** Tag Parts of Speech of each word in the text, and calculate the total number of N(oun), V(erb), Adj(ective), Adv(erb), respectively.\n",
        "\n",
        "(2) **Constituency Parsing and Dependency Parsing:** print out the constituency parsing trees and dependency parsing trees of all the sentences. Using one sentence as an example to explain your understanding about the constituency parsing tree and dependency parsing tree.\n",
        "\n",
        "(3) **Named Entity Recognition:** Extract all the entities such as person names, organizations, locations, product names, and date from the clean texts, calculate the count of each entity."
      ]
    },
    {
      "cell_type": "code",
      "execution_count": 5,
      "metadata": {
        "id": "Y0oOSlsOS0cq",
        "colab": {
          "base_uri": "https://localhost:8080/"
        },
        "outputId": "cae0d60a-1021-48bc-ef50-3ddef940b9c3"
      },
      "outputs": [
        {
          "output_type": "stream",
          "name": "stderr",
          "text": [
            "[nltk_data] Downloading package punkt to /root/nltk_data...\n",
            "[nltk_data]   Package punkt is already up-to-date!\n",
            "[nltk_data] Downloading package averaged_perceptron_tagger to\n",
            "[nltk_data]     /root/nltk_data...\n",
            "[nltk_data]   Unzipping taggers/averaged_perceptron_tagger.zip.\n",
            "[nltk_data] Downloading package punkt to /root/nltk_data...\n",
            "[nltk_data]   Package punkt is already up-to-date!\n"
          ]
        }
      ],
      "source": [
        "# Your code here\n",
        "\n",
        "import nltk\n",
        "nltk.download('punkt')\n",
        "nltk.download('averaged_perceptron_tagger')\n",
        "import csv\n",
        "import spacy\n",
        "from collections import Counter\n",
        "\n",
        "nltk.download('punkt')\n",
        "\n",
        "nlp = spacy.load(\"en_core_web_sm\")\n",
        "\n",
        "def analyze_text(text):\n",
        "    doc = nlp(text)\n",
        "    noun_count = sum(token.pos_ == 'NOUN' for token in doc)\n",
        "    verb_count = sum(token.pos_ == 'VERB' for token in doc)\n",
        "    adj_count = sum(token.pos_ == 'ADJ' for token in doc)\n",
        "    adv_count = sum(token.pos_ == 'ADV' for token in doc)\n",
        "\n",
        "    entity_counts = Counter([ent.text for ent in doc.ents if ent.label_ in ['PERSON', 'ORG', 'GPE', 'PRODUCT', 'DATE']])\n",
        "\n",
        "    return noun_count, verb_count, adj_count, adv_count, entity_counts\n",
        "\n",
        "with open('amazon_reviews.csv', 'r', encoding='utf-8') as csv_file:\n",
        "    csv_reader = csv.reader(csv_file)\n",
        "    next(csv_reader)  # Skip the header row\n",
        "\n",
        "    for row in csv_reader:\n",
        "        cleaned_text = row[0]\n",
        "\n",
        "        noun_count, verb_count, adj_count, adv_count, entity_counts = analyze_text(cleaned_text)\n",
        "\n",
        "        print(\"Noun:\", noun_count)\n",
        "        print(\"Verb:\", verb_count)\n",
        "        print(\"Adjective:\", adj_count)\n",
        "        print(\"Adverb:\", adv_count)\n",
        "        print(\"Entity:\")\n",
        "        print(entity_counts)\n",
        "        print(\"\\n\")\n"
      ]
    },
    {
      "cell_type": "markdown",
      "source": [
        "# Mandatory Question\n",
        "\n",
        "Provide your thoughts on the assignment. What did you find challenging, and what aspects did you enjoy? Your opinion on the provided time to complete the assignment."
      ],
      "metadata": {
        "id": "q8BFCvWp32cf"
      }
    },
    {
      "cell_type": "code",
      "source": [
        "# Write your response below\n",
        "The assignment involves analyzing Amazon reviews using natural language processing techniques, including tokenization, part-of-speech tagging, and named entity recognition. Challenges include preprocessing noisy text data and implementing NLP tasks effectively. Despite the complexity, it offers a valuable learning opportunity and real-world application in understanding customer sentiment and preferences."
      ],
      "metadata": {
        "id": "_e557s2w4BpK"
      },
      "execution_count": null,
      "outputs": []
    }
  ],
  "metadata": {
    "colab": {
      "provenance": []
    },
    "kernelspec": {
      "display_name": "Python 3 (ipykernel)",
      "language": "python",
      "name": "python3"
    },
    "language_info": {
      "codemirror_mode": {
        "name": "ipython",
        "version": 3
      },
      "file_extension": ".py",
      "mimetype": "text/x-python",
      "name": "python",
      "nbconvert_exporter": "python",
      "pygments_lexer": "ipython3",
      "version": "3.9.12"
    }
  },
  "nbformat": 4,
  "nbformat_minor": 0
}